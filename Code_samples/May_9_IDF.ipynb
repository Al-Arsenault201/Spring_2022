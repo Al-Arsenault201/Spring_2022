{
 "cells": [
  {
   "cell_type": "code",
   "execution_count": 3,
   "metadata": {},
   "outputs": [
    {
     "name": "stdout",
     "output_type": "stream",
     "text": [
      "['Surface', 1, 0, 0, 0, 0, 0, 0, 0, 0, 0]\n",
      "['Pressure', 1, 0, 0, 0, 0, 0, 1, 0, 0, 0]\n",
      "['unlocked', 2, 0, 0, 0, 0, 0, 0, 0, 0, 0]\n",
      "['the', 6, 0, 0, 1, 3, 5, 6, 2, 3, 4]\n",
      "['movie', 1, 0, 0, 0, 0, 1, 0, 0, 1, 0]\n",
      "['for', 2, 1, 0, 1, 0, 1, 5, 1, 0, 1]\n",
      "['me', 2, 3, 0, 2, 0, 0, 5, 19, 0, 1]\n",
      "['and', 4, 0, 0, 3, 0, 1, 5, 3, 0, 0]\n",
      "['made', 5, 0, 0, 1, 0, 0, 5, 1, 0, 0]\n",
      "['it', 2, 0, 0, 2, 0, 5, 5, 2, 0, 9]\n",
      "['more', 1, 0, 0, 3, 0, 4, 5, 0, 0, 7]\n",
      "['compelling', 1, 4, 0, 0, 0, 3, 43, 0, 0, 1]\n",
      "['than', 1, 7, 0, 7, 0, 2, 2, 0, 0, 2]\n",
      "['what ', 4, 1, 0, 5, 0, 1, 1, 9, 0, 4]\n",
      "['I', 3, 0, 0, 1, 0, 5, 1, 1, 0, 5]\n",
      "['thought ', 2, 0, 0, 2, 0, 4, 0, 2, 0, 6]\n",
      "['should', 3, 0, 0, 1, 0, 3, 0, 1, 0, 0]\n",
      "['be', 5, 1, 1, 8, 0, 2, 0, 0, 0, 0]\n",
      "[\"there's\", 0, 2, 1, 1, 0, 1, 0, 0, 0, 0]\n"
     ]
    }
   ],
   "source": [
    "with open(\"/Users/alfredarsenault/Downloads/term_list.csv\", \"r\") as infile:\n",
    "    data = infile.readlines()\n",
    "    for i in range(len(data)):\n",
    "        data[i] = data[i].split(\",\")\n",
    "        for j in range(1,len(data[i])):\n",
    "\n",
    "            data[i][j] = int(data[i][j])\n",
    "            \n",
    "        print(data[i])"
   ]
  },
  {
   "cell_type": "markdown",
   "metadata": {},
   "source": [
    "Now calculate IDF"
   ]
  },
  {
   "cell_type": "code",
   "execution_count": 6,
   "metadata": {},
   "outputs": [
    {
     "name": "stdout",
     "output_type": "stream",
     "text": [
      "['Surface', 2.302585092994046]\n",
      "['Pressure', 1.6094379124341003]\n",
      "['unlocked', 2.302585092994046]\n",
      "['the', 0.22314355131420976]\n",
      "['movie', 1.2039728043259361]\n",
      "['for', 0.3566749439387324]\n",
      "['me', 0.5108256237659907]\n",
      "['and', 0.6931471805599453]\n",
      "['made', 0.9162907318741551]\n",
      "['it', 0.5108256237659907]\n",
      "['more', 0.6931471805599453]\n",
      "['compelling', 0.6931471805599453]\n",
      "['than', 0.5108256237659907]\n",
      "['what ', 0.3566749439387324]\n",
      "['I', 0.5108256237659907]\n",
      "['thought ', 0.6931471805599453]\n",
      "['should', 0.9162907318741551]\n",
      "['be', 0.6931471805599453]\n",
      "[\"there's\", 0.9162907318741551]\n"
     ]
    }
   ],
   "source": [
    "import math\n",
    "idf = []\n",
    "for i in range(len(data)):\n",
    "    num_occurrences = 0\n",
    "    for j in range(1,len(data[i])):\n",
    "        if data[i][j] > 0:\n",
    "            num_occurrences += 1\n",
    "#    print(num_occurrences)\n",
    "    inverse_doc_freq = math.log(10/num_occurrences)\n",
    "    new_item = [data[i][0], inverse_doc_freq]\n",
    "    idf.append(new_item)\n",
    "    \n",
    "for j in range(len(idf)):\n",
    "    print(idf[j])\n",
    "    "
   ]
  },
  {
   "cell_type": "code",
   "execution_count": null,
   "metadata": {},
   "outputs": [],
   "source": []
  },
  {
   "cell_type": "code",
   "execution_count": null,
   "metadata": {},
   "outputs": [],
   "source": []
  }
 ],
 "metadata": {
  "kernelspec": {
   "display_name": "Python 3",
   "language": "python",
   "name": "python3"
  },
  "language_info": {
   "codemirror_mode": {
    "name": "ipython",
    "version": 3
   },
   "file_extension": ".py",
   "mimetype": "text/x-python",
   "name": "python",
   "nbconvert_exporter": "python",
   "pygments_lexer": "ipython3",
   "version": "3.8.3"
  }
 },
 "nbformat": 4,
 "nbformat_minor": 4
}
